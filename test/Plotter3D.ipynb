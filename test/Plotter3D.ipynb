{
 "cells": [
  {
   "cell_type": "code",
   "execution_count": null,
   "metadata": {},
   "outputs": [],
   "source": [
    "import warnings\n",
    "warnings.filterwarnings('ignore')"
   ]
  },
  {
   "cell_type": "code",
   "execution_count": null,
   "metadata": {},
   "outputs": [],
   "source": [
    "import numpy as np\n",
    "import pandas as pd\n",
    "import random \n",
    "import matplotlib.pyplot as plt\n",
    "import matplotlib.colors as pltc\n",
    "from mpl_toolkits.mplot3d import Axes3D\n",
    "from mpl_toolkits.mplot3d.art3d import Poly3DCollection"
   ]
  },
  {
   "cell_type": "code",
   "execution_count": null,
   "metadata": {},
   "outputs": [],
   "source": [
    "def cuboid_data2(o, size=(1,1,1)):\n",
    "    X = [[[0, 1, 0], [0, 0, 0], [1, 0, 0], [1, 1, 0]],\n",
    "         [[0, 0, 0], [0, 0, 1], [1, 0, 1], [1, 0, 0]],\n",
    "         [[1, 0, 1], [1, 0, 0], [1, 1, 0], [1, 1, 1]],\n",
    "         [[0, 0, 1], [0, 0, 0], [0, 1, 0], [0, 1, 1]],\n",
    "         [[0, 1, 0], [0, 1, 1], [1, 1, 1], [1, 1, 0]],\n",
    "         [[0, 1, 1], [0, 0, 1], [1, 0, 1], [1, 1, 1]]]\n",
    "    X = np.array(X).astype(\"float\")\n",
    "    for i in range(3):\n",
    "        X[:,:,i] *= size[i]\n",
    "    X += np.array(o)\n",
    "    return X\n",
    "\n",
    "def plotCubeAt2(positions,sizes=None,colors=None, **kwargs):\n",
    "    if not isinstance(colors,(list,np.ndarray)):\n",
    "        colors=[\"C0\"]*len(positions)\n",
    "    if not isinstance(sizes,(list,np.ndarray)):\n",
    "        sizes=[(1,1,1)]*len(positions)\n",
    "        \n",
    "    g = []\n",
    "    for p,s,c in zip(positions,sizes,colors):\n",
    "        g.append( cuboid_data2(p, size=s) )\n",
    "    return Poly3DCollection(np.concatenate(g), facecolors=np.repeat(colors,6), **kwargs)"
   ]
  },
  {
   "cell_type": "code",
   "execution_count": null,
   "metadata": {},
   "outputs": [],
   "source": [
    "all_colors = [k for k,v in pltc.cnames.items()]\n",
    "\n",
    "file = pd.read_csv(\"results.csv\")\n",
    "\n",
    "positions = []\n",
    "sizes = []\n",
    "\n",
    "for _, line in file.iterrows():\n",
    "    # print(line)\n",
    "    positions.append((line['X'], line['Y'], line['Z']))\n",
    "    sizes.append((line['SizeX'], line['SizeY'], line['SizeZ']))\n",
    "    \n",
    "\n",
    "colors = random.sample(all_colors, len(positions))\n",
    "\n",
    "fig = plt.figure(figsize=(15,10))\n",
    "ax = fig.gca(projection='3d')\n",
    "ax.add_collection3d(plotCubeAt2(positions, sizes, colors=colors, edgecolor=\"k\", alpha=0.5))    \n",
    "\n",
    "ax.set_xlim([0,120])\n",
    "ax.set_ylim([0,80])\n",
    "ax.set_zlim([0,100])\n",
    "\n",
    "plt.show()"
   ]
  },
  {
   "cell_type": "code",
   "execution_count": null,
   "metadata": {},
   "outputs": [],
   "source": []
  }
 ],
 "metadata": {
  "kernelspec": {
   "display_name": "Python 3",
   "language": "python",
   "name": "python3"
  },
  "language_info": {
   "codemirror_mode": {
    "name": "ipython",
    "version": 3
   },
   "file_extension": ".py",
   "mimetype": "text/x-python",
   "name": "python",
   "nbconvert_exporter": "python",
   "pygments_lexer": "ipython3",
   "version": "3.8.3"
  }
 },
 "nbformat": 4,
 "nbformat_minor": 4
}
